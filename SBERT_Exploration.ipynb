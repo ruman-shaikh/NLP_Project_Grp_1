{
  "nbformat": 4,
  "nbformat_minor": 0,
  "metadata": {
    "colab": {
      "name": "SBERT_Exploration.ipynb",
      "provenance": [],
      "collapsed_sections": [],
      "include_colab_link": true
    },
    "kernelspec": {
      "name": "python3",
      "display_name": "Python 3"
    },
    "language_info": {
      "name": "python"
    },
    "accelerator": "GPU",
    "gpuClass": "standard"
  },
  "cells": [
    {
      "cell_type": "markdown",
      "metadata": {
        "id": "view-in-github",
        "colab_type": "text"
      },
      "source": [
        "<a href=\"https://colab.research.google.com/github/ruman-shaikh/NLP_Project_Grp_1/blob/Ruman/SBERT_Exploration.ipynb\" target=\"_parent\"><img src=\"https://colab.research.google.com/assets/colab-badge.svg\" alt=\"Open In Colab\"/></a>"
      ]
    },
    {
      "cell_type": "markdown",
      "source": [
        "# SBERT Exploration\n",
        "This notebook's purpose is to explore and understand how SBERT, the sentence transformer works."
      ],
      "metadata": {
        "id": "nCAmxwWxeGS0"
      }
    },
    {
      "cell_type": "code",
      "execution_count": null,
      "metadata": {
        "colab": {
          "base_uri": "https://localhost:8080/"
        },
        "id": "kmEJfkaCd_zF",
        "outputId": "29395028-220c-4a08-ce03-d6d38bb9bb6c"
      },
      "outputs": [
        {
          "output_type": "stream",
          "name": "stdout",
          "text": [
            "Looking in indexes: https://pypi.org/simple, https://us-python.pkg.dev/colab-wheels/public/simple/\n",
            "Requirement already satisfied: sentence-transformers in /usr/local/lib/python3.7/dist-packages (2.2.2)\n",
            "Requirement already satisfied: torch>=1.6.0 in /usr/local/lib/python3.7/dist-packages (from sentence-transformers) (1.12.0+cu113)\n",
            "Requirement already satisfied: transformers<5.0.0,>=4.6.0 in /usr/local/lib/python3.7/dist-packages (from sentence-transformers) (4.20.1)\n",
            "Requirement already satisfied: scikit-learn in /usr/local/lib/python3.7/dist-packages (from sentence-transformers) (1.0.2)\n",
            "Requirement already satisfied: huggingface-hub>=0.4.0 in /usr/local/lib/python3.7/dist-packages (from sentence-transformers) (0.8.1)\n",
            "Requirement already satisfied: torchvision in /usr/local/lib/python3.7/dist-packages (from sentence-transformers) (0.13.0+cu113)\n",
            "Requirement already satisfied: nltk in /usr/local/lib/python3.7/dist-packages (from sentence-transformers) (3.7)\n",
            "Requirement already satisfied: sentencepiece in /usr/local/lib/python3.7/dist-packages (from sentence-transformers) (0.1.96)\n",
            "Requirement already satisfied: tqdm in /usr/local/lib/python3.7/dist-packages (from sentence-transformers) (4.64.0)\n",
            "Requirement already satisfied: numpy in /usr/local/lib/python3.7/dist-packages (from sentence-transformers) (1.21.6)\n",
            "Requirement already satisfied: scipy in /usr/local/lib/python3.7/dist-packages (from sentence-transformers) (1.7.3)\n",
            "Requirement already satisfied: importlib-metadata in /usr/local/lib/python3.7/dist-packages (from huggingface-hub>=0.4.0->sentence-transformers) (4.12.0)\n",
            "Requirement already satisfied: pyyaml>=5.1 in /usr/local/lib/python3.7/dist-packages (from huggingface-hub>=0.4.0->sentence-transformers) (6.0)\n",
            "Requirement already satisfied: filelock in /usr/local/lib/python3.7/dist-packages (from huggingface-hub>=0.4.0->sentence-transformers) (3.7.1)\n",
            "Requirement already satisfied: requests in /usr/local/lib/python3.7/dist-packages (from huggingface-hub>=0.4.0->sentence-transformers) (2.23.0)\n",
            "Requirement already satisfied: typing-extensions>=3.7.4.3 in /usr/local/lib/python3.7/dist-packages (from huggingface-hub>=0.4.0->sentence-transformers) (4.1.1)\n",
            "Requirement already satisfied: packaging>=20.9 in /usr/local/lib/python3.7/dist-packages (from huggingface-hub>=0.4.0->sentence-transformers) (21.3)\n",
            "Requirement already satisfied: pyparsing!=3.0.5,>=2.0.2 in /usr/local/lib/python3.7/dist-packages (from packaging>=20.9->huggingface-hub>=0.4.0->sentence-transformers) (3.0.9)\n",
            "Requirement already satisfied: tokenizers!=0.11.3,<0.13,>=0.11.1 in /usr/local/lib/python3.7/dist-packages (from transformers<5.0.0,>=4.6.0->sentence-transformers) (0.12.1)\n",
            "Requirement already satisfied: regex!=2019.12.17 in /usr/local/lib/python3.7/dist-packages (from transformers<5.0.0,>=4.6.0->sentence-transformers) (2022.6.2)\n",
            "Requirement already satisfied: zipp>=0.5 in /usr/local/lib/python3.7/dist-packages (from importlib-metadata->huggingface-hub>=0.4.0->sentence-transformers) (3.8.0)\n",
            "Requirement already satisfied: click in /usr/local/lib/python3.7/dist-packages (from nltk->sentence-transformers) (7.1.2)\n",
            "Requirement already satisfied: joblib in /usr/local/lib/python3.7/dist-packages (from nltk->sentence-transformers) (1.1.0)\n",
            "Requirement already satisfied: certifi>=2017.4.17 in /usr/local/lib/python3.7/dist-packages (from requests->huggingface-hub>=0.4.0->sentence-transformers) (2022.6.15)\n",
            "Requirement already satisfied: urllib3!=1.25.0,!=1.25.1,<1.26,>=1.21.1 in /usr/local/lib/python3.7/dist-packages (from requests->huggingface-hub>=0.4.0->sentence-transformers) (1.24.3)\n",
            "Requirement already satisfied: idna<3,>=2.5 in /usr/local/lib/python3.7/dist-packages (from requests->huggingface-hub>=0.4.0->sentence-transformers) (2.10)\n",
            "Requirement already satisfied: chardet<4,>=3.0.2 in /usr/local/lib/python3.7/dist-packages (from requests->huggingface-hub>=0.4.0->sentence-transformers) (3.0.4)\n",
            "Requirement already satisfied: threadpoolctl>=2.0.0 in /usr/local/lib/python3.7/dist-packages (from scikit-learn->sentence-transformers) (3.1.0)\n",
            "Requirement already satisfied: pillow!=8.3.*,>=5.3.0 in /usr/local/lib/python3.7/dist-packages (from torchvision->sentence-transformers) (7.1.2)\n"
          ]
        }
      ],
      "source": [
        "pip install -U sentence-transformers"
      ]
    },
    {
      "cell_type": "markdown",
      "source": [
        "### Quickstart\n",
        "\n",
        " - Sentences are passed as a list of strings\n",
        " - The model encode them into embeddings\n",
        "\n",
        "The output embeddings for all tokens are averaged to yield a fixed-sized vector.\n",
        "\n",
        "This mean is that we need to pass the complete dataset to get the fixed length output tensor"
      ],
      "metadata": {
        "id": "Ui3KY6JJfMff"
      }
    },
    {
      "cell_type": "code",
      "source": [
        "from sentence_transformers import SentenceTransformer\n",
        "model = SentenceTransformer('all-MiniLM-L6-v2')\n",
        "\n",
        "#Our sentences we like to encode\n",
        "sentences = ['This framework generates embeddings for each input sentence',\n",
        "    'Sentences are passed as a list of string.', \n",
        "    'The quick brown fox jumps over the lazy dog.']\n",
        "\n",
        "#Sentences are encoded by calling model.encode()\n",
        "sentence_embeddings = model.encode(sentences)\n",
        "\n",
        "#Print the embeddings\n",
        "for sentence, embedding in zip(sentences, sentence_embeddings):\n",
        "    print(\"Sentence:\", sentence)\n",
        "    print(\"Embedding:\", embedding)\n",
        "    print(\"\")"
      ],
      "metadata": {
        "colab": {
          "base_uri": "https://localhost:8080/"
        },
        "id": "s2Lxclv0efhE",
        "outputId": "87f4755f-2971-4567-f22a-ef0243af08bb"
      },
      "execution_count": null,
      "outputs": [
        {
          "output_type": "stream",
          "name": "stdout",
          "text": [
            "Sentence: This framework generates embeddings for each input sentence\n",
            "Embedding: [-1.37173869e-02 -4.28515635e-02 -1.56286228e-02  1.40537461e-02\n",
            "  3.95537652e-02  1.21796295e-01  2.94334088e-02 -3.17523777e-02\n",
            "  3.54959406e-02 -7.93140680e-02  1.75878406e-02 -4.04369719e-02\n",
            "  4.97259721e-02  2.54912619e-02 -7.18699619e-02  8.14968720e-02\n",
            "  1.47071050e-03  4.79627214e-02 -4.50335704e-02 -9.92174968e-02\n",
            " -2.81769242e-02  6.45046085e-02  4.44670431e-02 -4.76217046e-02\n",
            " -3.52952778e-02  4.38671745e-02 -5.28565943e-02  4.33040143e-04\n",
            "  1.01921469e-01  1.64072644e-02  3.26996557e-02 -3.45986895e-02\n",
            "  1.21339085e-02  7.94871375e-02  4.58342163e-03  1.57778263e-02\n",
            " -9.68207140e-03  2.87626218e-02 -5.05806357e-02 -1.55794173e-02\n",
            " -2.87907124e-02 -9.62278899e-03  3.15556526e-02  2.27349363e-02\n",
            "  8.71449560e-02 -3.85027602e-02 -8.84718895e-02 -8.75496492e-03\n",
            " -2.12343410e-02  2.08923835e-02 -9.02078152e-02 -5.25732413e-02\n",
            " -1.05638523e-02  2.88311206e-02 -1.61454454e-02  6.17841119e-03\n",
            " -1.23234447e-02 -1.07337339e-02  2.83353459e-02 -5.28567918e-02\n",
            " -3.58618200e-02 -5.97989634e-02 -1.09055424e-02  2.91566532e-02\n",
            "  7.97979087e-02 -3.27876420e-04  6.83498522e-03  1.32718543e-02\n",
            " -4.24619876e-02  1.87656749e-02 -9.89235193e-02  2.09050123e-02\n",
            " -8.69605839e-02 -1.50151849e-02 -4.86202501e-02  8.04415047e-02\n",
            " -3.67701892e-03 -6.65043965e-02  1.14556745e-01 -3.04228812e-02\n",
            "  2.96631400e-02 -2.80694887e-02  4.64990549e-02 -2.25513764e-02\n",
            "  8.54223073e-02  3.15446556e-02  7.34542087e-02 -2.21862104e-02\n",
            " -5.29679023e-02  1.27130700e-02 -5.27339764e-02 -1.06188729e-01\n",
            "  7.04731867e-02  2.76736617e-02 -8.05531517e-02  2.39649564e-02\n",
            " -2.65125018e-02 -2.17331238e-02  4.35275584e-02  4.84712161e-02\n",
            " -2.37067323e-02  2.85768546e-02  1.11846119e-01 -6.34935945e-02\n",
            " -1.58318691e-02 -2.26169601e-02 -1.31028397e-02 -1.62073073e-03\n",
            " -3.60928848e-02 -9.78297070e-02 -4.67729196e-02  1.76271964e-02\n",
            " -3.97491828e-02 -1.76415371e-04  3.39627787e-02 -2.09633633e-02\n",
            "  6.33657118e-03 -2.59411335e-02  8.10411125e-02  6.14393316e-02\n",
            " -5.44596789e-03  6.48276135e-02 -1.16844103e-01  2.36861240e-02\n",
            " -1.32058663e-02 -1.12476453e-01  1.90049335e-02 -1.74658945e-34\n",
            "  5.58949448e-02  1.94244757e-02  4.65439111e-02  5.18645495e-02\n",
            "  3.89390327e-02  3.40540819e-02 -4.32114303e-02  7.90637136e-02\n",
            " -9.79530066e-02 -1.27441017e-02 -2.91870907e-02  1.02052363e-02\n",
            "  1.88115910e-02  1.08942516e-01  6.63465336e-02 -5.35295270e-02\n",
            " -3.29228602e-02  4.69827168e-02  2.28883326e-02  2.74114665e-02\n",
            " -2.91983318e-02  3.12706530e-02 -2.22850833e-02 -1.02282166e-01\n",
            " -2.79116314e-02  1.13793164e-02  9.06309038e-02 -4.75414433e-02\n",
            " -1.00718938e-01 -1.23231998e-02 -7.96928257e-02 -1.44636584e-02\n",
            " -7.76400715e-02 -7.66918855e-03  9.73957684e-03  2.24204864e-02\n",
            "  7.77267739e-02 -3.17157200e-03  2.11538412e-02 -3.30393985e-02\n",
            "  9.55247227e-03 -3.73011902e-02  2.61360388e-02 -9.79085919e-03\n",
            " -6.31505400e-02  5.77432476e-03 -3.80031280e-02  1.29684154e-02\n",
            " -1.82498712e-02 -1.56283081e-02 -1.23363454e-03  5.55578917e-02\n",
            "  1.13102578e-04 -5.61256893e-02  7.40165636e-02  1.84452347e-02\n",
            " -2.66368389e-02  1.31951869e-02  7.50086680e-02 -2.46797670e-02\n",
            " -3.24006490e-02 -1.57674961e-02 -8.03516153e-03 -5.61321992e-03\n",
            "  1.05687827e-02  3.26167583e-03 -3.91990207e-02 -9.38677490e-02\n",
            "  1.14227146e-01  6.57304674e-02 -4.72633429e-02  1.45087717e-02\n",
            " -3.54490280e-02 -3.37761492e-02 -5.15506044e-02 -3.81000154e-03\n",
            " -5.15036285e-02 -5.93429394e-02 -1.69412757e-03  7.42107257e-02\n",
            " -4.20091450e-02 -7.19975233e-02  3.17249820e-02 -1.66303311e-02\n",
            "  3.96983884e-03 -6.52750656e-02  2.77391057e-02 -7.51649737e-02\n",
            "  2.27455925e-02 -3.91368493e-02  1.54315932e-02 -5.54908924e-02\n",
            "  1.23318769e-02 -2.59520635e-02  6.66423291e-02 -6.91260519e-34\n",
            "  3.31629030e-02  8.47928897e-02 -6.65583909e-02  3.33541594e-02\n",
            "  4.71612532e-03  1.35361925e-02 -5.38694486e-02  9.20694023e-02\n",
            " -2.96876840e-02  3.16219553e-02 -2.37497408e-02  1.98771246e-02\n",
            "  1.03446208e-01 -9.06947553e-02  6.30627386e-03  1.42886527e-02\n",
            "  1.19293723e-02  6.43729977e-03  4.20104750e-02  1.25344628e-02\n",
            "  3.93019542e-02  5.35691604e-02 -4.30749916e-02  6.10432625e-02\n",
            " -5.39588218e-05  6.91682622e-02  1.05520235e-02  1.22111589e-02\n",
            " -7.23185465e-02  2.50469279e-02 -5.18371128e-02 -4.36562374e-02\n",
            " -6.71818480e-02  1.34827951e-02 -7.25888833e-02  7.04164198e-03\n",
            "  6.58939481e-02  1.08994050e-02 -2.60009314e-03  5.49968928e-02\n",
            "  5.06966636e-02  3.27948965e-02 -6.68832958e-02  6.45557120e-02\n",
            " -2.52076164e-02 -2.92572100e-02 -1.16696738e-01  3.24064344e-02\n",
            "  5.85858412e-02 -3.51756774e-02 -7.15240389e-02  2.24936157e-02\n",
            " -1.00786723e-01 -4.74545248e-02 -7.61962980e-02 -5.87166809e-02\n",
            "  4.21138480e-02 -7.47213662e-02  1.98467970e-02 -3.36503657e-03\n",
            " -5.29736951e-02  2.74729449e-02  3.45737115e-02 -6.11846782e-02\n",
            "  1.06364802e-01 -9.64120105e-02 -4.55945022e-02  1.51489805e-02\n",
            " -5.13528474e-03 -6.64447844e-02  4.31721359e-02 -1.10405851e-02\n",
            " -9.80251934e-03  7.53783435e-02 -1.49571197e-02 -4.80208918e-02\n",
            "  5.80726564e-02 -2.43896712e-02 -2.23138202e-02 -4.36992235e-02\n",
            "  5.12054302e-02 -3.28625739e-02  1.08763345e-01  6.08926229e-02\n",
            "  3.30791413e-03  5.53820096e-02  8.43201056e-02  1.27087645e-02\n",
            "  3.84465754e-02  6.52325824e-02 -2.94683948e-02  5.08005545e-02\n",
            " -2.09348090e-02  1.46135673e-01  2.25561522e-02 -1.77227779e-08\n",
            " -5.02672605e-02 -2.79205182e-04 -1.00328580e-01  2.42811367e-02\n",
            " -7.54043460e-02 -3.79139856e-02  3.96049507e-02  3.10079809e-02\n",
            " -9.05704871e-03 -6.50412142e-02  4.05453481e-02  4.83390428e-02\n",
            " -4.56962436e-02  4.76004137e-03  2.64361617e-03  9.35614333e-02\n",
            " -4.02599201e-02  3.27402353e-02  1.18298372e-02  5.54345213e-02\n",
            "  1.48052275e-01  7.21189529e-02  2.76955223e-04  1.68651324e-02\n",
            "  8.34882818e-03 -8.76154471e-03 -1.33649623e-02  6.14236742e-02\n",
            "  1.57167949e-02  6.94960877e-02  1.08621633e-02  6.08018562e-02\n",
            " -5.33421226e-02 -3.47924531e-02 -3.36272083e-02  6.93906918e-02\n",
            "  1.22987665e-02 -1.45237356e-01 -2.06969609e-03 -4.61132936e-02\n",
            "  3.72747215e-03 -5.59354899e-03 -1.00659885e-01 -4.45953123e-02\n",
            "  5.40921129e-02  4.98893904e-03  1.49534559e-02 -8.26059803e-02\n",
            "  6.26630485e-02 -5.01906779e-03 -4.81857881e-02 -3.53991129e-02\n",
            "  9.03388951e-03 -2.42337771e-02  5.66267706e-02  2.51529291e-02\n",
            " -1.70709267e-02 -1.24780089e-02  3.19517888e-02  1.38421040e-02\n",
            " -1.55815007e-02  1.00178309e-01  1.23657264e-01 -4.22966890e-02]\n",
            "\n",
            "Sentence: Sentences are passed as a list of string.\n",
            "Embedding: [ 5.64524718e-02  5.50023913e-02  3.13795842e-02  3.39485072e-02\n",
            " -3.54247168e-02  8.34667608e-02  9.88800749e-02  7.27543561e-03\n",
            " -6.68655476e-03 -7.65807554e-03  7.93738961e-02  7.39724957e-04\n",
            "  1.49291782e-02 -1.51046915e-02  3.67674157e-02  4.78743687e-02\n",
            " -4.81969714e-02 -3.76052186e-02 -4.60278057e-02 -8.89816582e-02\n",
            "  1.20228149e-01  1.30663276e-01 -3.73936668e-02  2.47853925e-03\n",
            "  2.55825743e-03  7.25815147e-02 -6.80436492e-02 -5.24695851e-02\n",
            "  4.90234308e-02  2.99563333e-02 -5.84429614e-02 -2.02262793e-02\n",
            "  2.08822358e-02  9.76691991e-02  3.52390483e-02  3.91141139e-02\n",
            "  1.05667980e-02  1.56231085e-03 -1.30822537e-02  8.52902792e-03\n",
            " -4.84093884e-03 -2.03766376e-02 -2.71800812e-02  2.83307694e-02\n",
            "  3.66017669e-02  2.51276195e-02 -9.90861952e-02  1.15626371e-02\n",
            " -3.60380784e-02 -7.23784044e-02 -1.12670124e-01  1.12942131e-02\n",
            " -3.86397690e-02  4.67385985e-02 -2.88460478e-02  2.26704106e-02\n",
            " -8.52403324e-03  3.32815088e-02 -1.06583314e-03 -7.09745362e-02\n",
            " -6.31170124e-02 -5.72186634e-02 -6.16026595e-02  5.47146387e-02\n",
            "  1.18318088e-02 -4.66261171e-02  2.56959889e-02 -7.07416609e-03\n",
            " -5.73842973e-02  4.12839726e-02 -5.91503829e-02  5.89021668e-02\n",
            " -4.41697463e-02  4.65081334e-02 -3.15814689e-02  5.58312051e-02\n",
            "  5.54578751e-02 -5.96533380e-02  4.06407639e-02  4.83763125e-03\n",
            " -4.96768504e-02 -1.00944303e-01  3.40078548e-02  4.13274998e-03\n",
            " -2.93528475e-03  2.11837664e-02 -3.73962224e-02 -2.79067252e-02\n",
            " -4.61767614e-02  5.26138768e-02 -2.79734917e-02 -1.62379265e-01\n",
            "  6.61043227e-02  1.72274411e-02 -5.45111997e-03  4.74474169e-02\n",
            " -3.82237211e-02 -3.96896675e-02  1.34545201e-02  4.49654348e-02\n",
            "  4.53669159e-03  2.82978546e-02  8.36633146e-02 -1.00858007e-02\n",
            " -1.19354039e-01 -3.84624563e-02  4.82858531e-02 -9.46083739e-02\n",
            "  1.91854257e-02 -9.96518657e-02 -6.30596727e-02  3.02695986e-02\n",
            "  1.17402188e-02 -4.78372537e-02 -6.20270660e-03 -3.32850851e-02\n",
            " -4.04388877e-03  1.28307156e-02  4.05255184e-02  7.56477118e-02\n",
            "  2.92434804e-02  2.84270439e-02 -2.78938282e-02  1.66857839e-02\n",
            " -2.47961544e-02 -6.83651343e-02  2.89968029e-02 -5.39867784e-33\n",
            " -2.69013015e-03 -2.65069082e-02 -6.47928275e-04 -8.46201833e-03\n",
            " -7.35154301e-02  4.94086090e-03 -5.97842373e-02  1.03438077e-02\n",
            "  2.12899828e-03 -2.88210530e-03 -3.17076556e-02 -9.42363590e-02\n",
            "  3.03019565e-02  7.00227097e-02  4.50685285e-02  3.69439162e-02\n",
            "  1.13593796e-02  3.53027135e-02  5.50448196e-03  1.34414516e-03\n",
            "  3.46120726e-03  7.75047690e-02  5.45112528e-02 -7.92055652e-02\n",
            " -9.31696668e-02 -4.03398499e-02  3.10668927e-02 -3.83081473e-02\n",
            " -5.89442588e-02  1.93331949e-02 -2.67159455e-02 -7.91938454e-02\n",
            "  1.04254628e-04  7.70620629e-02  4.16603759e-02  8.90932232e-02\n",
            "  3.56843509e-02 -1.09152952e-02  3.71498354e-02 -2.07070615e-02\n",
            " -2.46100761e-02 -2.05025449e-02  2.62201615e-02  3.43590491e-02\n",
            "  4.39250879e-02 -8.20515212e-03 -8.40710402e-02  4.24171239e-02\n",
            "  4.87498753e-02  5.95384724e-02  2.87747793e-02  3.37638520e-02\n",
            " -4.07442600e-02 -1.66372221e-03  7.91927278e-02  3.41088623e-02\n",
            " -5.72857214e-04  1.87749621e-02 -1.36964275e-02  7.38332942e-02\n",
            "  5.74472419e-04  8.33505243e-02  5.60810938e-02 -1.13711059e-02\n",
            "  4.42611389e-02  2.69581787e-02 -4.80536222e-02 -3.15087326e-02\n",
            "  7.75226429e-02  1.81773342e-02 -8.83005932e-02 -7.85516948e-03\n",
            " -6.22242987e-02  7.19372630e-02 -2.33474895e-02  6.52482640e-03\n",
            " -9.49527789e-03 -9.88313109e-02  4.01305892e-02  3.07396706e-02\n",
            " -2.21607555e-02 -9.45911184e-02  1.02368118e-02  1.02187760e-01\n",
            " -4.12959754e-02 -3.15777957e-02  4.74751741e-02 -1.10209852e-01\n",
            "  1.69614777e-02 -3.71709391e-02 -1.03262123e-02 -4.72538322e-02\n",
            " -1.20214298e-02 -1.93255562e-02  5.79292402e-02  4.23866457e-34\n",
            "  3.92012857e-02  8.41361284e-02 -1.02946781e-01  6.92259818e-02\n",
            "  1.68821029e-02 -3.26760970e-02  9.65959392e-03  1.80899557e-02\n",
            "  2.17939727e-02  1.63189080e-02 -9.69292149e-02  3.74853751e-03\n",
            " -2.38456987e-02 -3.44055779e-02  7.11962730e-02  9.21928324e-04\n",
            " -6.23862771e-03  3.23754288e-02 -8.90360796e-04  5.01909293e-03\n",
            " -4.24537584e-02  9.89083722e-02 -4.60321158e-02  4.69704717e-02\n",
            " -1.75283942e-02 -7.02518597e-03  1.32743865e-02 -5.30151911e-02\n",
            "  2.66400771e-03  1.45819345e-02  7.43345311e-03 -3.07132211e-02\n",
            " -2.09416579e-02  8.24110135e-02 -5.15894406e-02 -2.71178242e-02\n",
            "  1.17582984e-01  7.72503763e-03 -1.89523213e-02  3.94559279e-02\n",
            "  7.17360377e-02  2.59117167e-02  2.75191888e-02  9.50542651e-03\n",
            " -3.02355252e-02 -4.07944620e-02 -1.04028493e-01 -7.97419995e-03\n",
            " -3.64456745e-03  3.29716094e-02 -2.35954709e-02 -7.50518311e-03\n",
            " -5.82234450e-02 -3.17906290e-02 -4.18049060e-02  2.17453483e-02\n",
            " -6.67292252e-02 -4.89104651e-02  4.58514364e-03 -2.66046375e-02\n",
            " -1.12597011e-01  5.11167273e-02  5.48534133e-02 -6.69856742e-02\n",
            "  1.26766250e-01 -8.59488025e-02 -5.94231449e-02 -2.92188744e-03\n",
            " -1.14875613e-02 -1.26025885e-01 -3.48275783e-03 -9.12001655e-02\n",
            " -1.22933112e-01  1.33777279e-02 -4.75775264e-02 -6.57933280e-02\n",
            " -3.39410007e-02 -3.07107717e-02 -5.22034019e-02 -2.35463623e-02\n",
            "  5.90035170e-02 -3.85757871e-02  3.19701396e-02  4.05118316e-02\n",
            "  1.67077687e-02 -3.58280912e-02  1.45688066e-02  3.20138149e-02\n",
            " -1.34843532e-02  6.07819967e-02 -8.31400603e-03 -1.08105680e-02\n",
            "  4.69410866e-02  7.66134039e-02 -4.23400290e-02 -2.11963354e-08\n",
            " -7.25293234e-02 -4.20228131e-02 -6.12374581e-02  5.24666384e-02\n",
            " -1.42363664e-02  1.18486993e-02 -1.40788415e-02 -3.67530026e-02\n",
            " -4.44977768e-02 -1.15141086e-02  5.23317084e-02  2.96652168e-02\n",
            " -4.62781005e-02 -3.70892622e-02  1.89129822e-02  2.04307996e-02\n",
            " -2.24005748e-02 -1.48562370e-02 -1.79504137e-02  4.20007855e-02\n",
            "  1.40942559e-02 -2.83492487e-02 -1.16862975e-01  1.48956832e-02\n",
            " -7.30584783e-04  5.66028468e-02 -2.68740486e-02  1.09106712e-01\n",
            "  2.94565037e-03  1.19267933e-01  1.14212461e-01  8.92973766e-02\n",
            " -1.70255527e-02 -4.99054119e-02 -2.11931206e-02  3.18421423e-02\n",
            "  7.03435764e-02 -1.02929428e-01  8.23816881e-02  2.81967949e-02\n",
            "  3.21146697e-02  3.79108004e-02 -1.09553121e-01  8.19620490e-02\n",
            "  8.73216614e-02 -5.73563725e-02 -2.01708712e-02 -5.69444448e-02\n",
            " -1.30338334e-02 -5.55684604e-02 -1.32966200e-02  8.64009932e-03\n",
            "  5.30012138e-02 -4.06847000e-02  2.71709133e-02 -2.55947327e-03\n",
            "  3.05775926e-02 -4.61865030e-02  4.68029920e-03 -3.64946872e-02\n",
            "  6.80802315e-02  6.65087700e-02  8.49152282e-02 -3.32849361e-02]\n",
            "\n",
            "Sentence: The quick brown fox jumps over the lazy dog.\n",
            "Embedding: [ 4.39335443e-02  5.89343756e-02  4.81783859e-02  7.75480792e-02\n",
            "  2.67444327e-02 -3.76296043e-02 -2.60510412e-03 -5.99430762e-02\n",
            " -2.49602087e-03  2.20728163e-02  4.80259471e-02  5.57553135e-02\n",
            " -3.89454290e-02 -2.66167764e-02  7.69339781e-03 -2.62376256e-02\n",
            " -3.64160649e-02 -3.78161147e-02  7.40781501e-02 -4.95050736e-02\n",
            " -5.85216880e-02 -6.36197180e-02  3.24349813e-02  2.20085159e-02\n",
            " -7.10637569e-02 -3.31577510e-02 -6.94104135e-02 -5.00374362e-02\n",
            "  7.46268108e-02 -1.11133792e-01 -1.23063205e-02  3.77456807e-02\n",
            " -2.80313399e-02  1.45353265e-02 -3.15585397e-02 -8.05836320e-02\n",
            "  5.83525896e-02  2.59009749e-03  3.92802320e-02  2.57696155e-02\n",
            "  4.98505831e-02 -1.75622897e-03 -4.55298088e-02  2.92607844e-02\n",
            " -1.02017254e-01  5.22287339e-02 -7.90899694e-02 -1.02857668e-02\n",
            "  9.20249522e-03  1.30732637e-02 -4.04777527e-02 -2.77924929e-02\n",
            "  1.24667585e-02  6.72832429e-02  6.81247860e-02 -7.57119618e-03\n",
            " -6.09943783e-03 -4.23777066e-02  5.17815799e-02 -1.56707466e-02\n",
            "  9.56356991e-03  4.12390269e-02  2.14959271e-02  1.04293311e-02\n",
            "  2.73349565e-02  1.87062472e-02 -2.69607436e-02 -7.00541884e-02\n",
            " -1.04700506e-01 -1.89879013e-03  1.77016836e-02 -5.74725494e-02\n",
            " -1.44223422e-02  4.70472849e-04  2.33228249e-03 -2.51920577e-02\n",
            "  4.93004285e-02 -5.09609878e-02  6.31983206e-02  1.49165150e-02\n",
            " -2.70766616e-02 -4.52875793e-02 -4.90593985e-02  3.74941006e-02\n",
            "  3.84579785e-02  1.56901067e-03  3.09922453e-02  2.01630108e-02\n",
            " -1.24363517e-02 -3.06719914e-02 -2.78818887e-02 -6.89182952e-02\n",
            " -5.13677336e-02  2.14795619e-02  1.15747470e-02  1.25409849e-03\n",
            "  1.88765824e-02 -4.42318730e-02 -4.49817516e-02 -3.41867097e-03\n",
            "  1.31130982e-02  2.00099479e-02  1.21099770e-01  2.31074840e-02\n",
            " -2.20160037e-02 -3.28847058e-02 -3.15512856e-03  1.17840056e-04\n",
            "  9.91498604e-02  1.65239107e-02 -4.69668536e-03 -1.45366611e-02\n",
            " -3.71074770e-03  9.65136215e-02  2.85908487e-02  2.13481840e-02\n",
            " -7.17645288e-02 -2.41142139e-02 -4.40940522e-02 -1.07346907e-01\n",
            "  6.79946020e-02  1.30466819e-01 -7.97029659e-02  6.79509295e-03\n",
            " -2.37512086e-02 -4.61636372e-02 -2.99650375e-02 -3.69410083e-33\n",
            "  7.30969980e-02 -2.20171809e-02 -8.61464515e-02 -7.14379400e-02\n",
            " -6.36741519e-02 -7.21863508e-02 -5.93039487e-03 -2.33641602e-02\n",
            " -2.83658206e-02  4.77434844e-02 -8.06176364e-02 -1.56481168e-03\n",
            "  1.38444137e-02 -2.86236219e-02 -3.35386954e-02 -1.13777541e-01\n",
            " -9.17635020e-03 -1.08101368e-02  3.23196165e-02  5.88380806e-02\n",
            "  3.34208980e-02  1.07987933e-01 -3.72713357e-02 -2.96770502e-02\n",
            "  5.17189838e-02 -2.25338936e-02 -6.96091279e-02 -2.14475170e-02\n",
            " -2.33410783e-02  4.82199937e-02 -3.58766317e-02 -4.68991213e-02\n",
            " -3.97873633e-02  1.10813260e-01 -1.43007282e-02 -1.18464470e-01\n",
            "  5.82915284e-02 -6.25889227e-02 -2.94040889e-02  6.03237897e-02\n",
            " -2.44414387e-03  1.60116218e-02  2.67233327e-02  2.49530543e-02\n",
            " -6.49319217e-02 -1.06802573e-02  2.81464886e-02  1.03563583e-02\n",
            " -6.63575775e-04  1.98186450e-02 -3.04288212e-02  6.28423365e-03\n",
            "  5.15268520e-02 -4.75375392e-02 -6.44421354e-02  9.55032110e-02\n",
            "  7.55858421e-02 -2.81574521e-02 -3.49965543e-02  1.01816431e-01\n",
            "  1.98732149e-02 -3.68036553e-02  2.93524400e-03 -5.00745066e-02\n",
            "  1.50932118e-01 -6.16079718e-02 -8.58812630e-02  7.13990442e-03\n",
            " -1.33065553e-02  7.80405030e-02  1.75250601e-02  4.21279483e-02\n",
            "  3.57939601e-02 -1.32950395e-01  3.56970541e-02 -2.03116853e-02\n",
            "  1.24910036e-02 -3.80354822e-02  4.91543561e-02 -1.56541038e-02\n",
            "  1.21418215e-01 -8.08644518e-02 -4.68781665e-02  4.10842821e-02\n",
            " -1.84318181e-02  6.69691190e-02  4.33594314e-03  2.27315295e-02\n",
            " -1.36429239e-02 -4.53238003e-02 -3.92829739e-02 -6.29891828e-03\n",
            "  5.29610068e-02 -3.69064957e-02  7.11677223e-02  2.33343380e-33\n",
            "  1.05231397e-01 -4.81874198e-02  6.95919096e-02  6.56976327e-02\n",
            " -4.65149432e-02  5.14492504e-02 -1.24474876e-02  3.20871770e-02\n",
            " -9.23356712e-02  5.00932783e-02 -3.28876302e-02  1.39139313e-02\n",
            " -8.70213087e-04 -4.90905717e-03  1.03946403e-01  3.21638247e-04\n",
            "  5.28110005e-02 -1.17990039e-02  2.31565069e-02  1.31768091e-02\n",
            " -5.25962710e-02  3.26701850e-02  3.08701245e-04  6.41128942e-02\n",
            "  3.88500616e-02  5.88008612e-02  8.29792991e-02 -1.88149791e-02\n",
            " -2.26377007e-02 -1.00473657e-01 -3.83752733e-02 -5.88081442e-02\n",
            "  1.82417012e-03 -4.26995121e-02  2.50195041e-02  6.40059933e-02\n",
            " -3.77482995e-02 -6.83900993e-03 -2.54608062e-03 -9.76042598e-02\n",
            "  1.88475829e-02 -8.83171277e-04  1.73611883e-02  7.10790530e-02\n",
            "  3.30393091e-02  6.93423674e-03 -5.60523160e-02  5.14634103e-02\n",
            " -4.29542139e-02  4.60077077e-02 -8.78834631e-03  3.17289531e-02\n",
            "  4.93965298e-02  2.95189824e-02 -5.05192280e-02 -5.43186739e-02\n",
            "  1.49986488e-04 -2.76614726e-02  3.46877910e-02 -2.10890025e-02\n",
            "  1.38060404e-02  2.99886726e-02  1.39744617e-02 -4.26471885e-03\n",
            " -1.50337238e-02 -8.76095518e-02 -6.85053840e-02 -4.28141877e-02\n",
            "  7.76945204e-02 -7.10285679e-02 -7.37693766e-03  2.13727299e-02\n",
            "  1.35562541e-02 -7.90464878e-02  5.47665311e-03  8.30663666e-02\n",
            "  1.14148036e-01  1.80764077e-03  8.75491425e-02 -4.16044965e-02\n",
            "  1.55416355e-02 -1.01206657e-02 -7.32440501e-03  1.07965646e-02\n",
            " -6.62816986e-02  3.98413427e-02 -1.16711535e-01  6.42994121e-02\n",
            "  4.02920246e-02 -6.54741600e-02  1.95052456e-02  8.09995532e-02\n",
            "  5.36463410e-02  7.67969638e-02 -1.34852193e-02 -1.76919048e-08\n",
            " -4.43935171e-02  9.20641702e-03 -8.79589766e-02  4.26921397e-02\n",
            "  7.31364936e-02  1.68427341e-02 -4.03262675e-02  1.85131002e-02\n",
            "  8.44172686e-02 -3.74477394e-02  3.02996300e-02  2.90641803e-02\n",
            "  6.36878461e-02  2.89750062e-02 -1.47269750e-02  1.77542623e-02\n",
            " -3.36895175e-02  1.73161477e-02  3.37875225e-02  1.76826075e-01\n",
            " -1.75533462e-02 -6.03077635e-02 -1.43394722e-02 -2.38536317e-02\n",
            " -4.45530713e-02 -2.89850272e-02 -8.96776468e-02 -1.75939605e-03\n",
            " -2.61486098e-02  5.93996653e-03 -5.18355519e-02  8.57279748e-02\n",
            " -8.18399116e-02  8.35438631e-03  4.00789827e-02  4.17764150e-02\n",
            "  1.04573555e-01 -2.86564301e-03  1.96691137e-02  5.81048662e-03\n",
            "  1.33253718e-02  4.51001078e-02 -2.17588283e-02 -1.39492955e-02\n",
            " -6.86992556e-02 -2.94110342e-03 -3.10765337e-02 -1.05854385e-01\n",
            "  6.91623837e-02 -4.24114801e-02 -4.67682071e-02 -3.64751033e-02\n",
            "  4.50399667e-02  6.09816797e-02 -6.56561404e-02 -5.45639824e-03\n",
            " -1.86226871e-02 -6.31484687e-02 -3.87436859e-02  3.46733704e-02\n",
            "  5.55458143e-02  5.21628037e-02  5.61065041e-02  1.02063924e-01]\n",
            "\n"
          ]
        }
      ]
    },
    {
      "cell_type": "code",
      "source": [
        "sentence_embeddings.shape, type(sentence_embeddings)"
      ],
      "metadata": {
        "colab": {
          "base_uri": "https://localhost:8080/"
        },
        "id": "IMeJBTrq8Lbo",
        "outputId": "15166de0-329b-4215-f3a2-6923b4134130"
      },
      "execution_count": null,
      "outputs": [
        {
          "output_type": "execute_result",
          "data": {
            "text/plain": [
              "((3, 384), numpy.ndarray)"
            ]
          },
          "metadata": {},
          "execution_count": 26
        }
      ]
    },
    {
      "cell_type": "markdown",
      "source": [
        "### Comparing Sentence Similarities\n",
        "\n",
        "The sentences (texts) are mapped such that sentences with similar meanings are close in vector space. One common method to measure the similarity in vector space is to use cosine similarity. "
      ],
      "metadata": {
        "id": "31jjp6UgiIws"
      }
    },
    {
      "cell_type": "code",
      "source": [
        "from sentence_transformers import SentenceTransformer, util\n",
        "model = SentenceTransformer('all-MiniLM-L6-v2')\n",
        "\n",
        "#Sentences are encoded by calling model.encode()\n",
        "emb1 = model.encode(\"This is a red cat with a hat.\")\n",
        "emb2 = model.encode(\"Have you seen my red cat?\")\n",
        "\n",
        "cos_sim = util.cos_sim(emb1, emb2)\n",
        "print(\"Cosine-Similarity:\", cos_sim)"
      ],
      "metadata": {
        "colab": {
          "base_uri": "https://localhost:8080/"
        },
        "id": "kDRuqd4Fe36M",
        "outputId": "745a6e7b-d4a0-4c0b-df07-caa56c325f3c"
      },
      "execution_count": null,
      "outputs": [
        {
          "output_type": "stream",
          "name": "stdout",
          "text": [
            "Cosine-Similarity: tensor([[0.6153]])\n"
          ]
        }
      ]
    },
    {
      "cell_type": "code",
      "source": [
        "emb1.shape, emb2.shape"
      ],
      "metadata": {
        "colab": {
          "base_uri": "https://localhost:8080/"
        },
        "id": "s9aaYWie71F2",
        "outputId": "e50df07a-dabc-48f2-bf06-634e2d716142"
      },
      "execution_count": null,
      "outputs": [
        {
          "output_type": "execute_result",
          "data": {
            "text/plain": [
              "((384,), (384,))"
            ]
          },
          "metadata": {},
          "execution_count": 12
        }
      ]
    },
    {
      "cell_type": "markdown",
      "source": [
        "Figure out a way to store the embedding in deive."
      ],
      "metadata": {
        "id": "Bu7_aUwskmAa"
      }
    },
    {
      "cell_type": "code",
      "source": [
        "#Our sentences we like to encode\n",
        "sentences = ['This framework generates embeddings for each input sentence',\n",
        "    'Sentences are passed as a list of string.', \n",
        "    'The quick brown fox jumps over the lazy dog.',]\n",
        "\n",
        "#Sentences are encoded by calling model.encode()\n",
        "sentence_embeddings = model.encode(sentences)"
      ],
      "metadata": {
        "id": "YygqI--Mh3MQ"
      },
      "execution_count": null,
      "outputs": []
    },
    {
      "cell_type": "code",
      "source": [
        "from google.colab import drive\n",
        "import pandas as pd\n",
        "drive.mount('/gdrive')\n",
        "%cd /gdrive/Shareddrives/NMA_DL_Dolma_1/Datasets/Sentiment140\n"
      ],
      "metadata": {
        "id": "VstWltx5rnXB",
        "colab": {
          "base_uri": "https://localhost:8080/"
        },
        "outputId": "a0c5b261-0a3c-4099-a0fc-e3ab795056cf"
      },
      "execution_count": null,
      "outputs": [
        {
          "output_type": "stream",
          "name": "stdout",
          "text": [
            "Drive already mounted at /gdrive; to attempt to forcibly remount, call drive.mount(\"/gdrive\", force_remount=True).\n",
            "/gdrive/Shareddrives/NMA_DL_Dolma_1/Datasets/Sentiment140\n"
          ]
        }
      ]
    },
    {
      "cell_type": "code",
      "source": [
        "#header_list = [\"polarity\", \"id\", \"date\", \"query\", \"user\", \"text\"]\n",
        "df=pd.read_csv(\"trainingclean.csv\",encoding='latin-1')\n",
        "#df.head()\n"
      ],
      "metadata": {
        "id": "pDfdyKBguTFr"
      },
      "execution_count": null,
      "outputs": []
    },
    {
      "cell_type": "code",
      "source": [
        "print(type(df['text']))\n",
        "data=df['text'].tolist()"
      ],
      "metadata": {
        "colab": {
          "base_uri": "https://localhost:8080/"
        },
        "id": "w0afRuOjuC0E",
        "outputId": "6a7c93a5-5a2c-4deb-cdbc-677ff8bcc18c"
      },
      "execution_count": null,
      "outputs": [
        {
          "output_type": "stream",
          "name": "stdout",
          "text": [
            "<class 'pandas.core.series.Series'>\n"
          ]
        }
      ]
    },
    {
      "cell_type": "code",
      "source": [
        "sentence_embeddings = model.encode(data)"
      ],
      "metadata": {
        "id": "7xj_oWSaulgA"
      },
      "execution_count": null,
      "outputs": []
    },
    {
      "cell_type": "code",
      "source": [
        "type(sentence_embeddings)\n",
        "from google.colab import drive\n",
        "drive.mount('/gdrive')\n",
        "%cd /gdrive/Shareddrives/NMA_DL_Dolma_1/Datasets/Sentiment140\n",
        "\n",
        "import numpy\n",
        "numpy.savetxt(\"sentence_embeddings_traindataset.txt\",sentence_embeddings)"
      ],
      "metadata": {
        "colab": {
          "base_uri": "https://localhost:8080/"
        },
        "id": "zSu2bLBeznNq",
        "outputId": "d7ebf668-ef3f-40c8-dd3f-9bb81512d138"
      },
      "execution_count": null,
      "outputs": [
        {
          "output_type": "stream",
          "name": "stdout",
          "text": [
            "Drive already mounted at /gdrive; to attempt to forcibly remount, call drive.mount(\"/gdrive\", force_remount=True).\n",
            "/gdrive/Shareddrives/NMA_DL_Dolma_1/Datasets/Sentiment140\n"
          ]
        }
      ]
    },
    {
      "cell_type": "code",
      "source": [
        "import pickle\n",
        "with open('embeddings.pkl', \"wb\") as fOut:\n",
        "    pickle.dump({'sentences': data, 'embeddings': sentence_embeddings}, fOut, protocol=pickle.HIGHEST_PROTOCOL)"
      ],
      "metadata": {
        "id": "jktxX9Rv3MT_"
      },
      "execution_count": null,
      "outputs": []
    },
    {
      "cell_type": "code",
      "source": [
        "\"\"\"\n",
        "for sentence, embedding in zip(data, sentence_embeddings):\n",
        "    print(\"Sentence:\", sentence)\n",
        "    print(\"Embedding:\", embedding)\n",
        "    print(\"\")\n",
        "\"\"\""
      ],
      "metadata": {
        "colab": {
          "base_uri": "https://localhost:8080/",
          "height": 52
        },
        "id": "VrNrYCmqu1jH",
        "outputId": "3442096a-d4e4-4303-f1b6-4cb3d937bf2c"
      },
      "execution_count": null,
      "outputs": [
        {
          "output_type": "execute_result",
          "data": {
            "text/plain": [
              "'\\nfor sentence, embedding in zip(data, sentence_embeddings):\\n    print(\"Sentence:\", sentence)\\n    print(\"Embedding:\", embedding)\\n    print(\"\")\\n'"
            ],
            "application/vnd.google.colaboratory.intrinsic+json": {
              "type": "string"
            }
          },
          "metadata": {},
          "execution_count": 29
        }
      ]
    },
    {
      "cell_type": "code",
      "source": [
        "%pwd"
      ],
      "metadata": {
        "colab": {
          "base_uri": "https://localhost:8080/",
          "height": 35
        },
        "id": "s7-5uAsJ8u0z",
        "outputId": "5dffdde2-7802-41c1-eb92-9b4c8b93e3a4"
      },
      "execution_count": null,
      "outputs": [
        {
          "output_type": "execute_result",
          "data": {
            "text/plain": [
              "'/content'"
            ],
            "application/vnd.google.colaboratory.intrinsic+json": {
              "type": "string"
            }
          },
          "metadata": {},
          "execution_count": 14
        }
      ]
    },
    {
      "cell_type": "code",
      "source": [
        "path = \"/content/drive/Shareddrives/NMA_DL_Dolma_1/Datasets/Sentiment140/embeddings.pkl\""
      ],
      "metadata": {
        "id": "RQahqJXD82QL"
      },
      "execution_count": null,
      "outputs": []
    },
    {
      "cell_type": "code",
      "source": [
        "import pickle\n",
        "\n",
        "with open(path, \"rb\") as fIn:\n",
        "    stored_data = pickle.load(fIn)\n",
        "    stored_sentences = stored_data['sentences']\n",
        "    stored_embeddings = stored_data['embeddings']\n",
        "\n",
        "\n"
      ],
      "metadata": {
        "id": "7fCYdTZZy2Vo"
      },
      "execution_count": null,
      "outputs": []
    },
    {
      "cell_type": "code",
      "source": [
        "print(type(stored_data), stored_data.keys())"
      ],
      "metadata": {
        "colab": {
          "base_uri": "https://localhost:8080/"
        },
        "id": "yfxXRjUT86Aj",
        "outputId": "e3243193-9cae-4d1f-be0f-ead5b5caf2d8"
      },
      "execution_count": null,
      "outputs": [
        {
          "output_type": "stream",
          "name": "stdout",
          "text": [
            "<class 'dict'> dict_keys(['sentences', 'embeddings'])\n"
          ]
        }
      ]
    },
    {
      "cell_type": "code",
      "source": [
        "print(type(stored_data['embeddings'][0]))\n",
        "\n",
        "stored_data['embeddings'][0].shape"
      ],
      "metadata": {
        "colab": {
          "base_uri": "https://localhost:8080/"
        },
        "id": "oR38QmDs9JKd",
        "outputId": "dcb3e656-cc61-45b6-f211-05d92961e861"
      },
      "execution_count": null,
      "outputs": [
        {
          "output_type": "stream",
          "name": "stdout",
          "text": [
            "<class 'numpy.ndarray'>\n"
          ]
        },
        {
          "output_type": "execute_result",
          "data": {
            "text/plain": [
              "(384,)"
            ]
          },
          "metadata": {},
          "execution_count": 27
        }
      ]
    },
    {
      "cell_type": "code",
      "source": [
        "Edited by Ruman"
      ],
      "metadata": {
        "id": "jQG6e-OC9Xu0"
      },
      "execution_count": null,
      "outputs": []
    }
  ]
}