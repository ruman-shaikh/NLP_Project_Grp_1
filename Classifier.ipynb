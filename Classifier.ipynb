{
  "nbformat": 4,
  "nbformat_minor": 0,
  "metadata": {
    "colab": {
      "name": "Classifier.ipynb",
      "provenance": [],
      "collapsed_sections": [],
      "include_colab_link": true
    },
    "kernelspec": {
      "name": "python3",
      "display_name": "Python 3"
    },
    "language_info": {
      "name": "python"
    },
    "accelerator": "GPU",
    "gpuClass": "standard"
  },
  "cells": [
    {
      "cell_type": "markdown",
      "metadata": {
        "id": "view-in-github",
        "colab_type": "text"
      },
      "source": [
        "<a href=\"https://colab.research.google.com/github/ruman-shaikh/NLP_Project_Grp_1/blob/master/Classifier.ipynb\" target=\"_parent\"><img src=\"https://colab.research.google.com/assets/colab-badge.svg\" alt=\"Open In Colab\"/></a>"
      ]
    },
    {
      "cell_type": "code",
      "execution_count": 1,
      "metadata": {
        "colab": {
          "base_uri": "https://localhost:8080/"
        },
        "id": "t1ffG4TOHN_e",
        "outputId": "5a990684-e7ac-4a7e-8f1e-e189eaf4348b"
      },
      "outputs": [
        {
          "output_type": "stream",
          "name": "stdout",
          "text": [
            "Mounted at /gdrive\n",
            "/gdrive/Shareddrives/NMA_DL_Dolma_1/Datasets/Sentiment140/EMB\n",
            "\u001b[0m\u001b[01;34mdata\u001b[0m/  test_embeddings.pkl  train_embeddings.pkl  val_embeddings.pkl\n"
          ]
        }
      ],
      "source": [
        "from google.colab import drive\n",
        "drive.mount('/gdrive')\n",
        "\n",
        "%cd /gdrive/Shareddrives/NMA_DL_Dolma_1/Datasets/Sentiment140/EMB\n",
        "%pwd\n",
        "%ls"
      ]
    },
    {
      "cell_type": "code",
      "source": [
        "#All the import statements go here.\n",
        "import pickle\n",
        "\n",
        "import numpy as np\n",
        "import pandas as pd\n",
        "from sklearn.preprocessing import OneHotEncoder\n",
        "\n",
        "import matplotlib.pyplot as plt\n",
        "import matplotlib\n",
        "\n",
        "import torch\n",
        "import torch.nn as nn\n",
        "import torch.nn.functional as F\n",
        "import torch.optim as optim"
      ],
      "metadata": {
        "id": "3dSMLYN2HpwT"
      },
      "execution_count": 2,
      "outputs": []
    },
    {
      "cell_type": "code",
      "source": [
        "# @title Set random seed\n",
        "\n",
        "# @markdown Executing `set_seed(seed=seed)` you are setting the seed\n",
        "\n",
        "# For DL its critical to set the random seed so that students can have a\n",
        "# baseline to compare their results to expected results.\n",
        "# Read more here: https://pytorch.org/docs/stable/notes/randomness.html\n",
        "\n",
        "# Call `set_seed` function in the exercises to ensure reproducibility.\n",
        "import random\n",
        "import torch\n",
        "\n",
        "def set_seed(seed=None, seed_torch=True):\n",
        "  \"\"\"\n",
        "  Function that controls randomness. NumPy and random modules must be imported.\n",
        "\n",
        "  Args:\n",
        "    seed : Integer\n",
        "      A non-negative integer that defines the random state. Default is `None`.\n",
        "    seed_torch : Boolean\n",
        "      If `True` sets the random seed for pytorch tensors, so pytorch module\n",
        "      must be imported. Default is `True`.\n",
        "\n",
        "  Returns:\n",
        "    Nothing.\n",
        "  \"\"\"\n",
        "  if seed is None:\n",
        "    seed = np.random.choice(2 ** 32)\n",
        "  random.seed(seed)\n",
        "  np.random.seed(seed)\n",
        "  if seed_torch:\n",
        "    torch.manual_seed(seed)\n",
        "    torch.cuda.manual_seed_all(seed)\n",
        "    torch.cuda.manual_seed(seed)\n",
        "    torch.backends.cudnn.benchmark = False\n",
        "    torch.backends.cudnn.deterministic = True\n",
        "\n",
        "  print(f'Random seed {seed} has been set.')\n",
        "\n",
        "\n",
        "# In case that `DataLoader` is used\n",
        "def seed_worker(worker_id):\n",
        "  \"\"\"\n",
        "  DataLoader will reseed workers following randomness in\n",
        "  multi-process data loading algorithm.\n",
        "\n",
        "  Args:\n",
        "    worker_id: integer\n",
        "      ID of subprocess to seed. 0 means that\n",
        "      the data will be loaded in the main process\n",
        "      Refer: https://pytorch.org/docs/stable/data.html#data-loading-randomness for more details\n",
        "\n",
        "  Returns:\n",
        "    Nothing\n",
        "  \"\"\"\n",
        "  worker_seed = torch.initial_seed() % 2**32\n",
        "  np.random.seed(worker_seed)\n",
        "  random.seed(worker_seed)"
      ],
      "metadata": {
        "id": "PlqppcDVZafH"
      },
      "execution_count": 3,
      "outputs": []
    },
    {
      "cell_type": "code",
      "source": [
        "# @title Set device (GPU or CPU). Execute `set_device()`\n",
        "# especially if torch modules used.\n",
        "\n",
        "# Inform the user if the notebook uses GPU or CPU.\n",
        "\n",
        "def set_device():\n",
        "  \"\"\"\n",
        "  Set the device. CUDA if available, CPU otherwise\n",
        "\n",
        "  Args:\n",
        "    None\n",
        "\n",
        "  Returns:\n",
        "    Nothing\n",
        "  \"\"\"\n",
        "  device = \"cuda\" if torch.cuda.is_available() else \"cpu\"\n",
        "  if device != \"cuda\":\n",
        "    print(\"GPU is not enabled in this notebook. \\n\"\n",
        "          \"If you want to enable it, in the menu under `Runtime` -> \\n\"\n",
        "          \"`Hardware accelerator.` and select `GPU` from the dropdown menu\")\n",
        "  else:\n",
        "    print(\"GPU is enabled in this notebook. \\n\"\n",
        "          \"If you want to disable it, in the menu under `Runtime` -> \\n\"\n",
        "          \"`Hardware accelerator.` and select `None` from the dropdown menu\")\n",
        "\n",
        "  return device"
      ],
      "metadata": {
        "id": "qp_fzOBUZf9N"
      },
      "execution_count": 4,
      "outputs": []
    },
    {
      "cell_type": "code",
      "source": [
        "SEED = 2022\n",
        "set_seed(seed=SEED)\n",
        "DEVICE = set_device()"
      ],
      "metadata": {
        "id": "JSoGc8Y1Zkpy",
        "outputId": "2929c84a-de34-49d3-bb17-d5136b82c8e2",
        "colab": {
          "base_uri": "https://localhost:8080/"
        }
      },
      "execution_count": 5,
      "outputs": [
        {
          "output_type": "stream",
          "name": "stdout",
          "text": [
            "Random seed 2022 has been set.\n",
            "GPU is enabled in this notebook. \n",
            "If you want to disable it, in the menu under `Runtime` -> \n",
            "`Hardware accelerator.` and select `None` from the dropdown menu\n"
          ]
        }
      ]
    },
    {
      "cell_type": "markdown",
      "source": [
        "# Data Loading and Pre-processing"
      ],
      "metadata": {
        "id": "uojXWqpVS5v4"
      }
    },
    {
      "cell_type": "code",
      "source": [
        "def load_emb(filename):\n",
        "  with open(filename, \"rb\") as fIn:\n",
        "    stored_data = pickle.load(fIn)\n",
        "    stored_sentences = stored_data['sentences']\n",
        "    stored_embeddings = stored_data['embeddings']\n",
        "    stored_labels = stored_data['labels']\n",
        "  \n",
        "  return stored_sentences, stored_embeddings, stored_labels"
      ],
      "metadata": {
        "id": "pogZCnvDHseF"
      },
      "execution_count": 6,
      "outputs": []
    },
    {
      "cell_type": "code",
      "source": [
        "print(\"List of embedding:\")\n",
        "%ls"
      ],
      "metadata": {
        "colab": {
          "base_uri": "https://localhost:8080/"
        },
        "id": "5iaW-_fiHv7s",
        "outputId": "a93efe5a-e7cd-4d8f-8e6f-57d40cd90803"
      },
      "execution_count": 7,
      "outputs": [
        {
          "output_type": "stream",
          "name": "stdout",
          "text": [
            "List of embedding:\n",
            "\u001b[0m\u001b[01;34mdata\u001b[0m/  test_embeddings.pkl  train_embeddings.pkl  val_embeddings.pkl\n"
          ]
        }
      ]
    },
    {
      "cell_type": "code",
      "source": [
        "train_sentences, train_embs, train_labels = load_emb(\"train_embeddings.pkl\")\n",
        "train_labels = np.array(train_labels) / 4\n",
        "print(len(train_sentences), train_embs.shape, len(train_labels))"
      ],
      "metadata": {
        "colab": {
          "base_uri": "https://localhost:8080/"
        },
        "id": "Gq4SPTiAH2Fc",
        "outputId": "27b91b5e-ac72-4329-e4b2-c063476f646a"
      },
      "execution_count": 8,
      "outputs": [
        {
          "output_type": "stream",
          "name": "stdout",
          "text": [
            "960000 (960000, 384) 960000\n"
          ]
        }
      ]
    },
    {
      "cell_type": "code",
      "source": [
        "train = []\n",
        "\n",
        "assert len(train_labels) == train_embs.shape[0]\n",
        "\n",
        "for i in range(len(train_labels)):\n",
        "  train.append(tuple((train_embs[i], train_labels[i])))\n",
        "\n",
        "train = tuple(train)\n",
        "\n",
        "print(type(train), len(train), type(train[0]), len(train[0]))\n",
        "print(type(train[0][0]), train[0][0].shape)\n",
        "print(type(train[0][1]), train[0][1].shape)"
      ],
      "metadata": {
        "colab": {
          "base_uri": "https://localhost:8080/"
        },
        "id": "t1O-X4rQDQh8",
        "outputId": "de1a48e5-5656-44fe-899f-d4c5086be88f"
      },
      "execution_count": 9,
      "outputs": [
        {
          "output_type": "stream",
          "name": "stdout",
          "text": [
            "<class 'tuple'> 960000 <class 'tuple'> 2\n",
            "<class 'numpy.ndarray'> (384,)\n",
            "<class 'numpy.float64'> ()\n"
          ]
        }
      ]
    },
    {
      "cell_type": "code",
      "source": [
        "test_sentences, test_embs, test_labels = load_emb(\"test_embeddings.pkl\")\n",
        "test_labels = np.array(test_labels) / 4\n",
        "print(len(test_sentences), test_embs.shape, len(test_labels))"
      ],
      "metadata": {
        "colab": {
          "base_uri": "https://localhost:8080/"
        },
        "id": "psoXPjFgH5P7",
        "outputId": "3c48019b-cfde-4624-d76e-a02e6205b7a2"
      },
      "execution_count": 10,
      "outputs": [
        {
          "output_type": "stream",
          "name": "stdout",
          "text": [
            "320000 (320000, 384) 320000\n"
          ]
        }
      ]
    },
    {
      "cell_type": "code",
      "source": [
        "test = []\n",
        "\n",
        "assert len(test_labels) == test_embs.shape[0]\n",
        "\n",
        "for i in range(len(test_labels)):\n",
        "  test.append(tuple((test_embs[i], test_labels[i])))\n",
        "\n",
        "test = tuple(test)\n",
        "\n",
        "print(type(test), len(test), type(test[0]), len(test[0]))\n",
        "print(type(test[0][0]), test[0][0].shape)\n",
        "print(type(test[0][1]), test[0][1].shape)"
      ],
      "metadata": {
        "colab": {
          "base_uri": "https://localhost:8080/"
        },
        "id": "Kle5Z___Eda_",
        "outputId": "e20920fb-ce1a-4beb-d3ee-c9fff2e4ff7e"
      },
      "execution_count": 11,
      "outputs": [
        {
          "output_type": "stream",
          "name": "stdout",
          "text": [
            "<class 'tuple'> 320000 <class 'tuple'> 2\n",
            "<class 'numpy.ndarray'> (384,)\n",
            "<class 'numpy.float64'> ()\n"
          ]
        }
      ]
    },
    {
      "cell_type": "code",
      "source": [
        "val_sentences, val_embs, val_labels = load_emb(\"val_embeddings.pkl\")\n",
        "val_labels = np.array(val_labels) / 4\n",
        "print(len(val_sentences), val_embs.shape, len(val_labels))"
      ],
      "metadata": {
        "colab": {
          "base_uri": "https://localhost:8080/"
        },
        "id": "dnsh2xR_H8sz",
        "outputId": "f5ee07fb-cbd0-42f0-93f2-326c9d7d26d9"
      },
      "execution_count": 12,
      "outputs": [
        {
          "output_type": "stream",
          "name": "stdout",
          "text": [
            "320000 (320000, 384) 320000\n"
          ]
        }
      ]
    },
    {
      "cell_type": "code",
      "source": [
        "total_size = 1.6 * 1000000\n",
        "total_size_retrived = train_embs.shape[0] + test_embs.shape[0] + val_embs.shape[0]\n",
        "\n",
        "assert train_embs.shape[1] == test_embs.shape[1] == val_embs.shape[1], \"Embedding Size Mismatch across datasetas\"\n",
        "assert total_size == total_size_retrived, \"Dataset sample size mismatch\""
      ],
      "metadata": {
        "id": "crgznnyKWc9B"
      },
      "execution_count": 13,
      "outputs": []
    },
    {
      "cell_type": "markdown",
      "source": [
        "#Defining the Neural Net"
      ],
      "metadata": {
        "id": "jwLA4GbiS3DK"
      }
    },
    {
      "cell_type": "code",
      "source": [
        "class ClassifierNet(nn.Module):\n",
        "\n",
        "    def __init__(self, input_size):\n",
        "        super(ClassifierNet, self).__init__()\n",
        "        # an affine operation: y = Wx + b\n",
        "        self.fc1 = nn.Linear(input_size, 256)  # 5*5 from image dimension\n",
        "        self.fc2 = nn.Linear(256, 128)\n",
        "        self.fc3 = nn.Linear(128, 64)\n",
        "        self.fc4 = nn.Linear(64, 32)\n",
        "        self.fc5 = nn.Linear(32, 1)\n",
        "\n",
        "    def forward(self, x):\n",
        "        x = F.relu(self.fc1(x))\n",
        "        x = F.relu(self.fc2(x))\n",
        "        x = F.relu(self.fc3(x))\n",
        "        x = F.relu(self.fc4(x))\n",
        "        x = self.fc5(x)\n",
        "        return F.sigmoid(x)\n",
        "\n",
        "classifierNet = ClassifierNet(train_embs.shape[1]).to(DEVICE)\n",
        "print(classifierNet)\n",
        "\n",
        "params = list(classifierNet.parameters())\n",
        "print(len(params))"
      ],
      "metadata": {
        "colab": {
          "base_uri": "https://localhost:8080/"
        },
        "id": "2ZQXq3UxTOiS",
        "outputId": "4cd0ef5f-dbe4-4d72-b490-2c993a858fe5"
      },
      "execution_count": 14,
      "outputs": [
        {
          "output_type": "stream",
          "name": "stdout",
          "text": [
            "ClassifierNet(\n",
            "  (fc1): Linear(in_features=384, out_features=256, bias=True)\n",
            "  (fc2): Linear(in_features=256, out_features=128, bias=True)\n",
            "  (fc3): Linear(in_features=128, out_features=64, bias=True)\n",
            "  (fc4): Linear(in_features=64, out_features=32, bias=True)\n",
            "  (fc5): Linear(in_features=32, out_features=1, bias=True)\n",
            ")\n",
            "10\n"
          ]
        }
      ]
    },
    {
      "cell_type": "code",
      "source": [
        "batch_size = 10000\n",
        "\n",
        "trainset = torch.utils.data.DataLoader(train, batch_size=batch_size, shuffle=True)\n",
        "testset = torch.utils.data.DataLoader(test, batch_size=batch_size, shuffle=False)"
      ],
      "metadata": {
        "id": "ZyMXuDcB4HTI"
      },
      "execution_count": 15,
      "outputs": []
    },
    {
      "cell_type": "code",
      "source": [
        "loss_function = nn.BCELoss()\n",
        "optimizer = optim.Adam(classifierNet.parameters(), lr=0.05)"
      ],
      "metadata": {
        "id": "lUY3ys14Imkx"
      },
      "execution_count": 16,
      "outputs": []
    },
    {
      "cell_type": "code",
      "source": [
        "loss_array = []\n",
        "\n",
        "for epoch in range(50):\n",
        "    for data in trainset:\n",
        "        X, y = data\n",
        "        X = X.to(DEVICE)\n",
        "        y = (torch.unsqueeze(y, 1).type(torch.float32)).to(DEVICE)\n",
        "        classifierNet.zero_grad()\n",
        "        output = classifierNet(X)\n",
        "        loss = loss_function(output, y)\n",
        "        loss.backward()\n",
        "        optimizer.step()\n",
        "    if ((epoch+1) % 5 == 0):\n",
        "      print(f\"Loss at epoch {epoch+1}: {loss.item()}\")\n",
        "    loss_array.append(loss.item())"
      ],
      "metadata": {
        "colab": {
          "base_uri": "https://localhost:8080/"
        },
        "id": "G2h5oK1F51n5",
        "outputId": "6091f42e-adf7-4052-9118-f50eaded0048"
      },
      "execution_count": 17,
      "outputs": [
        {
          "output_type": "stream",
          "name": "stderr",
          "text": [
            "/usr/local/lib/python3.7/dist-packages/torch/nn/functional.py:1960: UserWarning: nn.functional.sigmoid is deprecated. Use torch.sigmoid instead.\n",
            "  warnings.warn(\"nn.functional.sigmoid is deprecated. Use torch.sigmoid instead.\")\n"
          ]
        },
        {
          "output_type": "stream",
          "name": "stdout",
          "text": [
            "Loss at epoch 5: 0.4172925651073456\n",
            "Loss at epoch 10: 0.39985448122024536\n",
            "Loss at epoch 15: 0.39360877871513367\n",
            "Loss at epoch 20: 0.3707062304019928\n",
            "Loss at epoch 25: 0.3666927218437195\n",
            "Loss at epoch 30: 0.35623541474342346\n",
            "Loss at epoch 35: 0.345674991607666\n",
            "Loss at epoch 40: 0.3420279920101166\n",
            "Loss at epoch 45: 0.3363478481769562\n",
            "Loss at epoch 50: 0.32887959480285645\n"
          ]
        }
      ]
    },
    {
      "cell_type": "code",
      "source": [
        "plt.plot(loss_array)\n",
        "plt.title(\"Training Loss\")\n",
        "plt.xlabel(\"Epochs\")\n",
        "plt.ylabel(\"Loss\")\n",
        "plt.show()"
      ],
      "metadata": {
        "colab": {
          "base_uri": "https://localhost:8080/",
          "height": 295
        },
        "id": "CHtKJsswHIUN",
        "outputId": "646ca59a-48cf-4de3-eb1a-78686b495284"
      },
      "execution_count": 18,
      "outputs": [
        {
          "output_type": "display_data",
          "data": {
            "text/plain": [
              "<Figure size 432x288 with 1 Axes>"
            ],
            "image/png": "[encoded data removed]"
          },
          "metadata": {
            "needs_background": "light"
          }
        }
      ]
    },
    {
      "cell_type": "code",
      "source": [
        "def class_label(t):\n",
        "  if t > 0.5:\n",
        "    return 1.0\n",
        "  else:\n",
        "    return 0.0\n"
      ],
      "metadata": {
        "id": "Q4qbw5yTVWxj"
      },
      "execution_count": 19,
      "outputs": []
    },
    {
      "cell_type": "code",
      "source": [
        "correct = 0\n",
        "total = 0\n",
        "\n",
        "with torch.no_grad():\n",
        "    for data in testset:\n",
        "        X, y = data\n",
        "        X = X.to(DEVICE)  # sending data to GPU\n",
        "        y = (torch.unsqueeze(y, 1).type(torch.float32)).to(DEVICE)  # sending data to GPU\n",
        "        output = classifierNet(X)\n",
        "        #print(output)\n",
        "        for idx, i in enumerate(output):\n",
        "            #print(class_label(i), y[idx])\n",
        "            if class_label(i) == y[idx]:\n",
        "                correct += 1\n",
        "            total += 1\n",
        "\n",
        "print(\"Accuracy: \", round(correct/total, 3))"
      ],
      "metadata": {
        "colab": {
          "base_uri": "https://localhost:8080/"
        },
        "id": "Ajv_kv8iGun1",
        "outputId": "65928b0e-1f32-4223-8289-811aba58769a"
      },
      "execution_count": 20,
      "outputs": [
        {
          "output_type": "stream",
          "name": "stderr",
          "text": [
            "/usr/local/lib/python3.7/dist-packages/torch/nn/functional.py:1960: UserWarning: nn.functional.sigmoid is deprecated. Use torch.sigmoid instead.\n",
            "  warnings.warn(\"nn.functional.sigmoid is deprecated. Use torch.sigmoid instead.\")\n"
          ]
        },
        {
          "output_type": "stream",
          "name": "stdout",
          "text": [
            "Accuracy:  0.783\n"
          ]
        }
      ]
    },
    {
      "cell_type": "markdown",
      "source": [
        "# Saving and Loading the mode"
      ],
      "metadata": {
        "id": "adCqTJULPXLC"
      }
    },
    {
      "cell_type": "code",
      "source": [
        "PATH = \"/content/drive/Shareddrives/NMA_DL_Dolma_1/Models/ClassifierNet.pth\"\n",
        "\n",
        "torch.save(classifierNet, PATH)"
      ],
      "metadata": {
        "id": "_qJ7wvhDCvd0"
      },
      "execution_count": 25,
      "outputs": []
    },
    {
      "cell_type": "code",
      "source": [
        "model = torch.load(PATH)"
      ],
      "metadata": {
        "id": "5wYVEBnjO-QG"
      },
      "execution_count": null,
      "outputs": []
    }
  ]
}